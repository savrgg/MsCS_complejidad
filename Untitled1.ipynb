{
 "cells": [
  {
   "cell_type": "code",
   "execution_count": 44,
   "metadata": {},
   "outputs": [],
   "source": [
    "dict_memo = {}\n",
    "contar = 0\n",
    "    \n",
    "def calcularTerminanAntes_ai(s, f, i):\n",
    "    S_i = []\n",
    "    F_i = []\n",
    "    \n",
    "    for l in range(len(s)):\n",
    "        if s[i] >= f[l]:  \n",
    "            S_i.append(s[l])\n",
    "            F_i.append(f[l])\n",
    "    \n",
    "    return S_i, F_i\n",
    "\n",
    "def calcularInicianDespues_ai(s, f, i):\n",
    "    S_i = []\n",
    "    F_i = []\n",
    "    \n",
    "    for l in range(len(s)):\n",
    "        if s[l] >= f[i]:  \n",
    "            S_i.append(s[l])\n",
    "            F_i.append(f[l])\n",
    "    \n",
    "    return S_i, F_i\n",
    "\n",
    "    \n",
    "def SeleccionActividades_valorOpt(s, f):\n",
    "    global contar\n",
    "    if len(s) == 0:\n",
    "        return 0\n",
    "    \n",
    "    n = len(s)\n",
    "    q = -1\n",
    "    \n",
    "    if hash(tuple(s+f)) in dict_memo:\n",
    "        contar+=1\n",
    "        print(\"Se utilizo el diccionario: \" + str(contar))\n",
    "        return dict_memo[hash(tuple(s+f))]\n",
    "    else:\n",
    "        for k in range(n):        \n",
    "            ST_k, FT_k = calcularTerminanAntes_ai(s, f, k)\n",
    "            SD_k, FD_k = calcularInicianDespues_ai(s, f, k)\n",
    "        \n",
    "            p = 1 + SeleccionActividades_valorOpt(ST_k, FT_k) + SeleccionActividades_valorOpt(SD_k, FD_k)\n",
    "            \n",
    "            if p > q:\n",
    "                q = p\n",
    "        dict_memo[hash(tuple(s+f))] = q\n",
    "    return q\n",
    "    \n"
   ]
  },
  {
   "cell_type": "code",
   "execution_count": 45,
   "metadata": {},
   "outputs": [
    {
     "name": "stdout",
     "output_type": "stream",
     "text": [
      "Se utilizo el diccionario: 1\n",
      "Se utilizo el diccionario: 2\n",
      "Se utilizo el diccionario: 3\n",
      "Se utilizo el diccionario: 4\n",
      "Se utilizo el diccionario: 5\n",
      "Se utilizo el diccionario: 6\n",
      "Se utilizo el diccionario: 7\n",
      "Se utilizo el diccionario: 8\n",
      "Se utilizo el diccionario: 9\n",
      "Se utilizo el diccionario: 10\n",
      "Se utilizo el diccionario: 11\n",
      "Se utilizo el diccionario: 12\n",
      "Se utilizo el diccionario: 13\n",
      "Se utilizo el diccionario: 14\n",
      "Se utilizo el diccionario: 15\n",
      "Se utilizo el diccionario: 16\n",
      "Se utilizo el diccionario: 17\n",
      "Se utilizo el diccionario: 18\n",
      "Se utilizo el diccionario: 19\n",
      "Se utilizo el diccionario: 20\n",
      "Se utilizo el diccionario: 21\n",
      "Se utilizo el diccionario: 22\n",
      "Se utilizo el diccionario: 23\n",
      "Se utilizo el diccionario: 24\n",
      "Se utilizo el diccionario: 25\n",
      "Se utilizo el diccionario: 26\n",
      "Se utilizo el diccionario: 27\n",
      "Se utilizo el diccionario: 28\n",
      "Se utilizo el diccionario: 29\n",
      "Se utilizo el diccionario: 30\n",
      "Se utilizo el diccionario: 31\n",
      "Se utilizo el diccionario: 32\n",
      "Se utilizo el diccionario: 33\n",
      "4\n"
     ]
    }
   ],
   "source": [
    "print(SeleccionActividades_valorOpt([1,3,0,5,3,5,6,8,8,2,12],[4,5,6,7,9,9,10,11,12,14,16]))"
   ]
  },
  {
   "cell_type": "code",
   "execution_count": 35,
   "metadata": {},
   "outputs": [
    {
     "data": {
      "text/plain": [
       "(4, 5)"
      ]
     },
     "execution_count": 35,
     "metadata": {},
     "output_type": "execute_result"
    }
   ],
   "source": []
  },
  {
   "cell_type": "code",
   "execution_count": null,
   "metadata": {},
   "outputs": [],
   "source": []
  }
 ],
 "metadata": {
  "kernelspec": {
   "display_name": "Python 3",
   "language": "python",
   "name": "python3"
  },
  "language_info": {
   "codemirror_mode": {
    "name": "ipython",
    "version": 3
   },
   "file_extension": ".py",
   "mimetype": "text/x-python",
   "name": "python",
   "nbconvert_exporter": "python",
   "pygments_lexer": "ipython3",
   "version": "3.8.6"
  }
 },
 "nbformat": 4,
 "nbformat_minor": 4
}
