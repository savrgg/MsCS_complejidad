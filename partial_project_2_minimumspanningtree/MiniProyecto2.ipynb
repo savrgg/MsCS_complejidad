{
 "cells": [
  {
   "cell_type": "code",
   "execution_count": 5,
   "metadata": {},
   "outputs": [],
   "source": [
    "# Implementación de Algoritmos\n",
    "# For manual testing\n",
    "import numpy as np\n",
    "import time\n",
    "import seaborn as sns\n",
    "import pandas as pd\n",
    "import matplotlib.pyplot as plt\n",
    "import scipy as sp\n",
    "sns.set_theme(style=\"darkgrid\")\n",
    "%matplotlib inline\n",
    "\n",
    "\n",
    "from scipy.sparse import csr_matrix\n",
    "from scipy.sparse.csgraph import minimum_spanning_tree"
   ]
  },
  {
   "cell_type": "code",
   "execution_count": 14,
   "metadata": {},
   "outputs": [],
   "source": [
    "#Funciones de creación de matriz de adyacencias\n",
    "def crea_matriz(size):\n",
    "    matriz = []\n",
    "    INF = float('inf') \n",
    "    for i in range(size):\n",
    "        matriz.append([INF for i in range(size)])\n",
    "    return matriz\n",
    "\n",
    "def arista(m, v1,v2,p):\n",
    "    if v1 == v2:\n",
    "        print(\"v1 y v2 son el mismo %d and %d\" % (v1, v2))\n",
    "    m[v1][v2] = p\n",
    "    m[v2][v1] = p\n",
    "\n",
    "# Función de búsqueda del vértice i\n",
    "def buscar(i): \n",
    "    while padre[i] != i: \n",
    "        i = padre[i] \n",
    "    return i \n",
    "\n",
    "# Ejecuta la unión de i y j. Será falso si i y j ya se encuentran en el mismo conjunto\n",
    "def union(i, j): \n",
    "    a = buscar(i) \n",
    "    b = buscar(j) \n",
    "    padre[a] = b \n",
    "\n",
    "# Encuentra el AGM\n",
    "def kruskal(m_costos): \n",
    "    costomin = 0 \n",
    "  \n",
    "    # Aristas de valor mínimo\n",
    "    aristas = 0\n",
    "    while aristas < V - 1: \n",
    "        min = float('inf')  \n",
    "        a = -1\n",
    "        b = -1\n",
    "        for i in range(V): \n",
    "            for j in range(V): \n",
    "                if buscar(i) != buscar(j) and m_costos[i][j] < min: \n",
    "                    min = m_costos[i][j] \n",
    "                    a = i \n",
    "                    b = j \n",
    "        union(a, b) \n",
    "        print(padre)\n",
    "        print('Arista {}:({}, {}) costo:{}'.format(aristas, a, b, min)) \n",
    "        aristas += 1\n",
    "        costomin += min\n",
    "  \n",
    "    print(\"Costo Mínimo= {}\".format(costomin))\n",
    "    "
   ]
  },
  {
   "cell_type": "code",
   "execution_count": 15,
   "metadata": {},
   "outputs": [
    {
     "name": "stdout",
     "output_type": "stream",
     "text": [
      "[[inf, 8, inf, 3], [8, inf, 2, 5], [inf, 2, inf, 6], [3, 5, 6, inf]]\n",
      "[0, 1, 2, 3]\n",
      "[0, 2, 2, 3]\n",
      "Arista 0:(1, 2) costo:2\n",
      "[3, 2, 2, 3]\n",
      "Arista 1:(0, 3) costo:3\n",
      "[3, 2, 3, 3]\n",
      "Arista 2:(1, 3) costo:5\n",
      "Costo Mínimo= 10\n"
     ]
    }
   ],
   "source": [
    "V=4\n",
    "padre = [i for i in range(V)] \n",
    "mat=crea_matriz(V)\n",
    "arista(mat,0,1,8)\n",
    "arista(mat,0,3,3)\n",
    "arista(mat,1,2,2)\n",
    "arista(mat,1,3,5)\n",
    "arista(mat,2,3,6)\n",
    "print(mat)\n",
    "print(padre)\n",
    "kruskal(mat)"
   ]
  },
  {
   "cell_type": "code",
   "execution_count": null,
   "metadata": {},
   "outputs": [],
   "source": []
  }
 ],
 "metadata": {
  "kernelspec": {
   "display_name": "Python 3",
   "language": "python",
   "name": "python3"
  },
  "language_info": {
   "codemirror_mode": {
    "name": "ipython",
    "version": 3
   },
   "file_extension": ".py",
   "mimetype": "text/x-python",
   "name": "python",
   "nbconvert_exporter": "python",
   "pygments_lexer": "ipython3",
   "version": "3.8.3"
  }
 },
 "nbformat": 4,
 "nbformat_minor": 4
}
