{
 "cells": [
  {
   "cell_type": "code",
   "execution_count": 23,
   "metadata": {},
   "outputs": [],
   "source": [
    "def calcularTerminanAntes_ai(s, f, i):\n",
    "    S_i = []\n",
    "    F_i = []\n",
    "    \n",
    "    for l in range(len(s)):\n",
    "        if s[i] >= f[l]:  \n",
    "            S_i.append(s[l])\n",
    "            F_i.append(f[l])\n",
    "    \n",
    "    return S_i, F_i\n",
    "\n",
    "def calcularInicianDespues_ai(s, f, i):\n",
    "    S_i = []\n",
    "    F_i = []\n",
    "    \n",
    "    for l in range(len(s)):\n",
    "        if s[l] >= f[i]:  \n",
    "            S_i.append(s[l])\n",
    "            F_i.append(f[l])\n",
    "    \n",
    "    return S_i, F_i\n",
    "\n",
    "        \n",
    "def SeleccionActividades_valorOpt(s, f):\n",
    "    if len(s) == 0:\n",
    "        return 0\n",
    "    \n",
    "    n = len(s)\n",
    "    q = -1\n",
    "    for k in range(n):        \n",
    "        ST_k, FT_k = calcularTerminanAntes_ai(s, f, k)\n",
    "        SD_k, FD_k = calcularInicianDespues_ai(s, f, k)\n",
    "        \n",
    "        if (ST_k, FT_k) in sel_actividades:\n",
    "            out_1 = sel_actividades[(ST_k, FT_k)]\n",
    "        else:\n",
    "            sel_actividades[(ST_k, FT_k)] = SeleccionActividades_valorOpt(ST_k, FT_k)\n",
    "            out_1 = sel_actividades[(ST_k, FT_k)]\n",
    "            \n",
    "        if (SD_k, FD_k) in sel_actividades:\n",
    "            out_2 = sel_actividades[(SD_k, FD_k)]\n",
    "        else:\n",
    "            sel_actividades[(SD_k, FD_k)] = SeleccionActividades_valorOpt(SD_k, FD_k)\n",
    "            out_2 = sel_actividades[(SD_k, FD_k)]\n",
    "\n",
    "        p = 1 + out_1 + out_2\n",
    "            \n",
    "        if p > q:\n",
    "            q = p\n",
    "    \n",
    "    return q\n",
    "    \n",
    "\n",
    "sel_actividades = {}    \n",
    "print(SeleccionActividades_valorOpt([1,3,0,5,3,5,6,8,8,2,12,20,19],[2,5,6,7,9,9,10,11,12,14,16,22,24]))\n"
   ]
  },
  {
   "cell_type": "code",
   "execution_count": 24,
   "metadata": {},
   "outputs": [
    {
     "ename": "RecursionError",
     "evalue": "maximum recursion depth exceeded in comparison",
     "output_type": "error",
     "traceback": [
      "\u001b[0;31m---------------------------------------------------------------------------\u001b[0m",
      "\u001b[0;31mRecursionError\u001b[0m                            Traceback (most recent call last)",
      "\u001b[0;32m<ipython-input-24-d9ebacacfe51>\u001b[0m in \u001b[0;36m<module>\u001b[0;34m\u001b[0m\n\u001b[1;32m      1\u001b[0m \u001b[0msel_actividades\u001b[0m \u001b[0;34m=\u001b[0m \u001b[0;34m{\u001b[0m\u001b[0;34m}\u001b[0m\u001b[0;34m\u001b[0m\u001b[0;34m\u001b[0m\u001b[0m\n\u001b[0;32m----> 2\u001b[0;31m \u001b[0mSeleccionActividades_valorOpt\u001b[0m\u001b[0;34m(\u001b[0m\u001b[0;34m[\u001b[0m\u001b[0;36m23\u001b[0m\u001b[0;34m,\u001b[0m\u001b[0;36m1\u001b[0m\u001b[0;34m,\u001b[0m\u001b[0;36m3\u001b[0m\u001b[0;34m,\u001b[0m\u001b[0;36m0\u001b[0m\u001b[0;34m,\u001b[0m\u001b[0;36m5\u001b[0m\u001b[0;34m,\u001b[0m\u001b[0;36m3\u001b[0m\u001b[0;34m,\u001b[0m\u001b[0;36m5\u001b[0m\u001b[0;34m,\u001b[0m\u001b[0;36m6\u001b[0m\u001b[0;34m,\u001b[0m\u001b[0;36m8\u001b[0m\u001b[0;34m,\u001b[0m\u001b[0;36m8\u001b[0m\u001b[0;34m,\u001b[0m\u001b[0;36m2\u001b[0m\u001b[0;34m,\u001b[0m\u001b[0;36m12\u001b[0m\u001b[0;34m,\u001b[0m\u001b[0;36m100\u001b[0m\u001b[0;34m]\u001b[0m\u001b[0;34m,\u001b[0m\u001b[0;34m[\u001b[0m\u001b[0;36m0\u001b[0m\u001b[0;34m,\u001b[0m\u001b[0;36m4\u001b[0m\u001b[0;34m,\u001b[0m\u001b[0;36m5\u001b[0m\u001b[0;34m,\u001b[0m\u001b[0;36m6\u001b[0m\u001b[0;34m,\u001b[0m\u001b[0;36m7\u001b[0m\u001b[0;34m,\u001b[0m\u001b[0;36m9\u001b[0m\u001b[0;34m,\u001b[0m\u001b[0;36m9\u001b[0m\u001b[0;34m,\u001b[0m\u001b[0;36m10\u001b[0m\u001b[0;34m,\u001b[0m\u001b[0;36m11\u001b[0m\u001b[0;34m,\u001b[0m\u001b[0;36m12\u001b[0m\u001b[0;34m,\u001b[0m\u001b[0;36m14\u001b[0m\u001b[0;34m,\u001b[0m\u001b[0;36m16\u001b[0m\u001b[0;34m,\u001b[0m\u001b[0;36m40\u001b[0m\u001b[0;34m]\u001b[0m\u001b[0;34m)\u001b[0m\u001b[0;34m\u001b[0m\u001b[0;34m\u001b[0m\u001b[0m\n\u001b[0m",
      "\u001b[0;32m<ipython-input-23-9a1b6bea984f>\u001b[0m in \u001b[0;36mSeleccionActividades_valorOpt\u001b[0;34m(s, f)\u001b[0m\n\u001b[1;32m     38\u001b[0m             \u001b[0mout_1\u001b[0m \u001b[0;34m=\u001b[0m \u001b[0msel_actividades\u001b[0m\u001b[0;34m[\u001b[0m\u001b[0mt1\u001b[0m\u001b[0;34m]\u001b[0m\u001b[0;34m\u001b[0m\u001b[0;34m\u001b[0m\u001b[0m\n\u001b[1;32m     39\u001b[0m         \u001b[0;32melse\u001b[0m\u001b[0;34m:\u001b[0m\u001b[0;34m\u001b[0m\u001b[0;34m\u001b[0m\u001b[0m\n\u001b[0;32m---> 40\u001b[0;31m             \u001b[0msel_actividades\u001b[0m\u001b[0;34m[\u001b[0m\u001b[0mt1\u001b[0m\u001b[0;34m]\u001b[0m \u001b[0;34m=\u001b[0m \u001b[0mtuple\u001b[0m\u001b[0;34m(\u001b[0m\u001b[0mzip\u001b[0m\u001b[0;34m(\u001b[0m\u001b[0mSeleccionActividades_valorOpt\u001b[0m\u001b[0;34m(\u001b[0m\u001b[0mST_k\u001b[0m\u001b[0;34m,\u001b[0m \u001b[0mFT_k\u001b[0m\u001b[0;34m)\u001b[0m\u001b[0;34m)\u001b[0m\u001b[0;34m)\u001b[0m\u001b[0;34m\u001b[0m\u001b[0;34m\u001b[0m\u001b[0m\n\u001b[0m\u001b[1;32m     41\u001b[0m             \u001b[0mout_1\u001b[0m \u001b[0;34m=\u001b[0m \u001b[0msel_actividades\u001b[0m\u001b[0;34m[\u001b[0m\u001b[0mt1\u001b[0m\u001b[0;34m]\u001b[0m\u001b[0;34m\u001b[0m\u001b[0;34m\u001b[0m\u001b[0m\n\u001b[1;32m     42\u001b[0m \u001b[0;34m\u001b[0m\u001b[0m\n",
      "... last 1 frames repeated, from the frame below ...\n",
      "\u001b[0;32m<ipython-input-23-9a1b6bea984f>\u001b[0m in \u001b[0;36mSeleccionActividades_valorOpt\u001b[0;34m(s, f)\u001b[0m\n\u001b[1;32m     38\u001b[0m             \u001b[0mout_1\u001b[0m \u001b[0;34m=\u001b[0m \u001b[0msel_actividades\u001b[0m\u001b[0;34m[\u001b[0m\u001b[0mt1\u001b[0m\u001b[0;34m]\u001b[0m\u001b[0;34m\u001b[0m\u001b[0;34m\u001b[0m\u001b[0m\n\u001b[1;32m     39\u001b[0m         \u001b[0;32melse\u001b[0m\u001b[0;34m:\u001b[0m\u001b[0;34m\u001b[0m\u001b[0;34m\u001b[0m\u001b[0m\n\u001b[0;32m---> 40\u001b[0;31m             \u001b[0msel_actividades\u001b[0m\u001b[0;34m[\u001b[0m\u001b[0mt1\u001b[0m\u001b[0;34m]\u001b[0m \u001b[0;34m=\u001b[0m \u001b[0mtuple\u001b[0m\u001b[0;34m(\u001b[0m\u001b[0mzip\u001b[0m\u001b[0;34m(\u001b[0m\u001b[0mSeleccionActividades_valorOpt\u001b[0m\u001b[0;34m(\u001b[0m\u001b[0mST_k\u001b[0m\u001b[0;34m,\u001b[0m \u001b[0mFT_k\u001b[0m\u001b[0;34m)\u001b[0m\u001b[0;34m)\u001b[0m\u001b[0;34m)\u001b[0m\u001b[0;34m\u001b[0m\u001b[0;34m\u001b[0m\u001b[0m\n\u001b[0m\u001b[1;32m     41\u001b[0m             \u001b[0mout_1\u001b[0m \u001b[0;34m=\u001b[0m \u001b[0msel_actividades\u001b[0m\u001b[0;34m[\u001b[0m\u001b[0mt1\u001b[0m\u001b[0;34m]\u001b[0m\u001b[0;34m\u001b[0m\u001b[0;34m\u001b[0m\u001b[0m\n\u001b[1;32m     42\u001b[0m \u001b[0;34m\u001b[0m\u001b[0m\n",
      "\u001b[0;31mRecursionError\u001b[0m: maximum recursion depth exceeded in comparison"
     ]
    }
   ],
   "source": [
    "sel_actividades = {}    \n",
    "SeleccionActividades_valorOpt([23,1,3,0,5,3,5,6,8,8,2,12,100],[0,4,5,6,7,9,9,10,11,12,14,16,40])"
   ]
  },
  {
   "cell_type": "code",
   "execution_count": null,
   "metadata": {},
   "outputs": [],
   "source": []
  }
 ],
 "metadata": {
  "kernelspec": {
   "display_name": "Python 3",
   "language": "python",
   "name": "python3"
  },
  "language_info": {
   "codemirror_mode": {
    "name": "ipython",
    "version": 3
   },
   "file_extension": ".py",
   "mimetype": "text/x-python",
   "name": "python",
   "nbconvert_exporter": "python",
   "pygments_lexer": "ipython3",
   "version": "3.8.6"
  }
 },
 "nbformat": 4,
 "nbformat_minor": 4
}
