{
 "cells": [
  {
   "cell_type": "code",
   "execution_count": 6,
   "metadata": {},
   "outputs": [],
   "source": [
    "def calcularTerminanAntes_ai(s, f, i):\n",
    "    S_i = []\n",
    "    F_i = []\n",
    "    \n",
    "    for l in range(len(s)):\n",
    "        if s[i] >= f[l]:  \n",
    "            S_i.append(s[l])\n",
    "            F_i.append(f[l])\n",
    "    \n",
    "    return S_i, F_i\n",
    "\n",
    "def calcularInicianDespues_ai(s, f, i):\n",
    "    S_i = []\n",
    "    F_i = []\n",
    "    \n",
    "    for l in range(len(s)):\n",
    "        if s[l] >= f[i]:  \n",
    "            S_i.append(s[l])\n",
    "            F_i.append(f[l])\n",
    "    \n",
    "    return S_i, F_i\n",
    "\n",
    "    \n",
    "def SeleccionActividades_valorOpt(s, f):\n",
    "    if len(s) == 0:\n",
    "        return 0\n",
    "    \n",
    "    n = len(s)\n",
    "    q = -1\n",
    "    for k in range(n):        \n",
    "        ST_k, FT_k = calcularTerminanAntes_ai(s, f, k)\n",
    "        SD_k, FD_k = calcularInicianDespues_ai(s, f, k)\n",
    "        \n",
    "        p = 1 + SeleccionActividades_valorOpt(ST_k, FT_k)\n",
    "        + SeleccionActividades_valorOpt(SD_k, FD_k)\n",
    "            \n",
    "        if p > q:\n",
    "            q = p\n",
    "    \n",
    "    return q\n",
    "    \n"
   ]
  },
  {
   "cell_type": "code",
   "execution_count": 7,
   "metadata": {},
   "outputs": [
    {
     "name": "stdout",
     "output_type": "stream",
     "text": [
      "4\n"
     ]
    }
   ],
   "source": [
    "print(SeleccionActividades_valorOpt([1,3,0,5,3,5,6,8,8,2,12],[4,5,6,7,9,9,10,11,12,14,16]))"
   ]
  },
  {
   "cell_type": "code",
   "execution_count": null,
   "metadata": {},
   "outputs": [],
   "source": []
  },
  {
   "cell_type": "code",
   "execution_count": null,
   "metadata": {},
   "outputs": [],
   "source": []
  },
  {
   "cell_type": "code",
   "execution_count": null,
   "metadata": {},
   "outputs": [],
   "source": []
  }
 ],
 "metadata": {
  "kernelspec": {
   "display_name": "Python 3",
   "language": "python",
   "name": "python3"
  },
  "language_info": {
   "codemirror_mode": {
    "name": "ipython",
    "version": 3
   },
   "file_extension": ".py",
   "mimetype": "text/x-python",
   "name": "python",
   "nbconvert_exporter": "python",
   "pygments_lexer": "ipython3",
   "version": "3.8.6"
  }
 },
 "nbformat": 4,
 "nbformat_minor": 4
}
